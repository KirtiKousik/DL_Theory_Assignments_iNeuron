{
  "nbformat": 4,
  "nbformat_minor": 0,
  "metadata": {
    "colab": {
      "provenance": [],
      "authorship_tag": "ABX9TyORs9t4hHcUjI2Z5df8YXo2",
      "include_colab_link": true
    },
    "kernelspec": {
      "name": "python3",
      "display_name": "Python 3"
    },
    "language_info": {
      "name": "python"
    }
  },
  "cells": [
    {
      "cell_type": "markdown",
      "metadata": {
        "id": "view-in-github",
        "colab_type": "text"
      },
      "source": [
        "<a href=\"https://colab.research.google.com/github/KirtiKousik/DL_Theory_Assignments_iNeuron/blob/main/DL_Theory_Assignment_3.ipynb\" target=\"_parent\"><img src=\"https://colab.research.google.com/assets/colab-badge.svg\" alt=\"Open In Colab\"/></a>"
      ]
    },
    {
      "cell_type": "markdown",
      "source": [
        "# 1. Is it OK to initialize all the weights to the same value as long as that value is selected randomly using He initialization?"
      ],
      "metadata": {
        "id": "aRR2j8k4T9ab"
      }
    },
    {
      "cell_type": "markdown",
      "source": [
        "- No, it is not recommended to initialize all the weights to the same value, even if that value is randomly selected using He initialization. This is because the backpropagation algorithm adjusts the weights based on the gradient of the loss function with respect to the weights. If all the weights are initialized to the same value, then the gradients with respect to each weight will be the same, and the weights will be updated in the same way in each iteration of the algorithm. This can result in slow convergence or even getting stuck in a suboptimal solution.\n",
        "\n",
        "- Using He initialization, which is a type of random initialization, is designed to address the issue of initializing the weights in a way that scales with the number of neurons in the layer. The idea behind He initialization is to initialize the weights with a random value that is proportional to the square root of the number of neurons in the layer, so that the weights are in a suitable range for the activation function. This helps to ensure that the activation function is not saturating, which can help to speed up the convergence of the backpropagation algorithm.\n",
        "\n",
        "\n",
        "\n",
        "\n"
      ],
      "metadata": {
        "id": "eBbtAQGHUOZu"
      }
    },
    {
      "cell_type": "markdown",
      "source": [
        "# 2. Is it OK to initialize the bias terms to 0?"
      ],
      "metadata": {
        "id": "DC-xhWOBURVC"
      }
    },
    {
      "cell_type": "markdown",
      "source": [
        "- Initializing the bias terms to 0 is a common practice, but it may not be optimal for all cases. The bias term is used to shift the activation function to the left or right, and it can play a significant role in the performance of the neural network.\n",
        "\n",
        "- If the activation function is symmetrical, such as the sigmoid or hyperbolic tangent function, initializing the bias terms to 0 may not have a significant impact on the performance. However, in other cases, initializing the bias terms to a small non-zero value, such as 0.01, can help to prevent saturation of the activation function and speed up convergence of the learning algorithm.\n",
        "\n",
        "- Ultimately, the best value to initialize the bias terms to depends on the specific problem being solved, the choice of activation function, and the optimization algorithm being used. In some cases, it may be necessary to experiment with different values for the bias terms to find the best configuration for a particular problem.\n",
        "\n",
        "\n",
        "\n"
      ],
      "metadata": {
        "id": "xt3rwkiaUkNQ"
      }
    },
    {
      "cell_type": "markdown",
      "source": [
        "# 3. Name three advantages of the SELU activation function over ReLU."
      ],
      "metadata": {
        "id": "dTwuUQU1UpRa"
      }
    },
    {
      "cell_type": "markdown",
      "source": [
        "- The Scaled Exponential Linear Unit (SELU) activation function has several advantages over the Rectified Linear Unit (ReLU) activation function:\n",
        "\n",
        "    - Self-Normalizing: The SELU activation function is self-normalizing, which means that it tends to preserve the mean and variance of the activations during the forward pass through the network. This helps to prevent the vanishing or exploding gradient problem that can occur with other activation functions, and can lead to faster convergence and better generalization performance.\n",
        "\n",
        "    - Non-saturating: Unlike ReLU, the SELU activation function does not saturate at either end, which means that it can continue to learn and update the weights even for large input values. This can help to improve the overall performance of the network.\n",
        "\n",
        "    - Easier optimization: The SELU activation function has a smooth, non-linear shape that can make it easier to optimize the network weights using gradient-based optimization algorithms such as stochastic gradient descent. The smoothness of the SELU activation function can help to prevent the optimization from getting stuck in suboptimal solutions or local minima.\n",
        "\n",
        "- These advantages make the SELU activation function a popular choice for deep neural networks, especially for those trained using unsupervised or semi-supervised learning methods. However, it is worth noting that the SELU activation function may not be appropriate for all types of problems, and it may be necessary to experiment with different activation functions to find the best one for a particular problem."
      ],
      "metadata": {
        "id": "63MBfOkrZNyO"
      }
    },
    {
      "cell_type": "markdown",
      "source": [
        "# 4. In which cases would you want to use each of the following activation functions: SELU, leaky ReLU (and its variants), ReLU, tanh, logistic, and softmax?"
      ],
      "metadata": {
        "id": "f_XefaMeZWVB"
      }
    },
    {
      "cell_type": "markdown",
      "source": [
        "- Each activation function has its own strengths and weaknesses, and the choice of activation function depends on the specific requirements of the problem being solved. Here is a general guide for when to use each activation function:\n",
        "\n",
        "    - SELU (Scaled Exponential Linear Unit): SELU activation is appropriate for deep neural networks, especially for those trained using unsupervised or semi-supervised learning methods. It helps to prevent the vanishing or exploding gradient problem that can occur with other activation functions and has a smooth, non-linear shape that can make it easier to optimize the network weights.\n",
        "\n",
        "    - Leaky ReLU (and its variants): Leaky ReLU is a variant of ReLU that allows for a small, non-zero gradient when the input is negative. This helps to address the problem of \"dying ReLUs\" where the activation function becomes stuck at 0 and can no longer learn. Leaky ReLU can be a good choice for large, sparsely-connected networks, where it may be difficult for the activations to propagate through the network.\n",
        "\n",
        "    - ReLU (Rectified Linear Unit): ReLU is a popular activation function for feedforward networks and is particularly well-suited for problems involving sparse data, where many input features are 0 or near 0. ReLU is computationally efficient and can lead to faster convergence than other activation functions. However, it can be prone to the \"dying ReLU\" problem, where neurons can become stuck and unable to learn.\n",
        "\n",
        "    - tanh (Hyperbolic Tangent): tanh is a common activation function for recurrent neural networks, where it is used to model the range of real numbers. It has a smooth, sigmoid-like shape that makes it easy to optimize and can help to prevent the optimization from getting stuck in suboptimal solutions or local minima.\n",
        "\n",
        "    - Logistic: The logistic activation function is similar in shape to the sigmoid function and can be used for binary classification problems. It has a smooth, sigmoidal shape that makes it easy to optimize, but it can be prone to the vanishing gradient problem, especially in deep networks.\n",
        "\n",
        "    - Softmax: Softmax is an activation function that is used in the output layer of a neural network to produce a probability distribution over multiple classes. It is commonly used for multiclass classification problems, where the goal is to predict the class with the highest probability.\n",
        "\n",
        "- It is worth noting that these activation functions are not mutually exclusive, and it is common to use multiple activation functions in a single network, depending on the requirements of the problem and the architecture of the network."
      ],
      "metadata": {
        "id": "EmDG24O8Z34w"
      }
    },
    {
      "cell_type": "markdown",
      "source": [
        "# 5. What may happen if you set the momentum hyperparameter too close to 1 (e.g., 0.99999) when using an SGD optimizer?"
      ],
      "metadata": {
        "id": "Uzv1JLO2aC8N"
      }
    },
    {
      "cell_type": "markdown",
      "source": [
        "- If the momentum hyperparameter is set too close to 1, it can lead to overshooting and oscillation in the optimization process. This is because a high momentum value puts a heavy weight on the previous update, leading to large updates that may go far away from the optimal solution. These large updates may lead to overshooting the optimal solution and then oscillating back and forth, making it difficult for the optimizer to converge to the optimal solution."
      ],
      "metadata": {
        "id": "2aKjHH-xaQcw"
      }
    },
    {
      "cell_type": "markdown",
      "source": [
        "# 6. Name three ways you can produce a sparse model."
      ],
      "metadata": {
        "id": "_RUZRj69aTCK"
      }
    },
    {
      "cell_type": "markdown",
      "source": [
        "- Three ways to produce a sparse model are:\n",
        "\n",
        "    - Regularization techniques: Regularization techniques such as L1 or Lasso regularization can be applied to the loss function to encourage sparse solutions.\n",
        "\n",
        "    - Dropout: Dropout is a technique where neurons are randomly dropped during training, forcing the network to learn multiple redundant representations and reducing the risk of overfitting.\n",
        "\n",
        "    - Pruning: Pruning is a technique where the least important connections are removed from the network, reducing its size and making it more computationally efficient.\n",
        "\n",
        "- Each of these methods helps reduce the number of connections or neurons in the network, leading to a sparse model with fewer parameters."
      ],
      "metadata": {
        "id": "-pIxFyQwac5Q"
      }
    },
    {
      "cell_type": "markdown",
      "source": [
        "# 7. Does dropout slow down training? Does it slow down inference (i.e., making predictions on new instances)? What about MC Dropout?"
      ],
      "metadata": {
        "id": "h-OFAmMjajMM"
      }
    },
    {
      "cell_type": "markdown",
      "source": [
        "- Dropout can slow down the training process as it reduces the number of active neurons in the network and hence reduces the learning capacity. However, the performance improvement obtained from using Dropout in terms of reduced overfitting compensates for the slower training.\n",
        "\n",
        "- Dropout does not slow down inference as it is only applied during training, not during evaluation or prediction.\n",
        "\n",
        "- MC Dropout is a variant of Dropout where multiple predictions are made with dropout applied on different neurons and an average of the predictions is taken. MC Dropout adds some computational overhead during inference but provides an estimate of the model's uncertainty, which can be useful in certain applications."
      ],
      "metadata": {
        "id": "3HIvUD-PbhNU"
      }
    },
    {
      "cell_type": "markdown",
      "source": [
        "# 8. Practice training a deep neural network on the CIFAR10 image dataset:"
      ],
      "metadata": {
        "id": "QatmP7-gblGV"
      }
    },
    {
      "cell_type": "markdown",
      "source": [
        "a. Build a DNN with 20 hidden layers of 100 neurons each (that’s too many, but it’s the\n",
        "point of this exercise). Use He initialization and the ELU activation function."
      ],
      "metadata": {
        "id": "emuhwQuCEPGs"
      }
    },
    {
      "cell_type": "code",
      "source": [
        "import numpy as np\n",
        "import keras\n",
        "from keras.datasets import cifar10\n",
        "from keras.models import Sequential\n",
        "from keras.layers import Dense, Activation, Flatten\n",
        "from keras.initializers import he_normal\n",
        "\n",
        "# load CIFAR10 dataset\n",
        "(x_train, y_train), (x_test, y_test) = cifar10.load_data()\n",
        "\n",
        "# preprocess the data\n",
        "x_train = x_train.astype('float32') / 255.\n",
        "x_test = x_test.astype('float32') / 255.\n",
        "\n",
        "# flatten the data\n",
        "x_train = np.reshape(x_train, (len(x_train), -1))\n",
        "x_test = np.reshape(x_test, (len(x_test), -1))\n",
        "\n",
        "# convert labels to one-hot encoding\n",
        "num_classes = 10\n",
        "y_train = keras.utils.to_categorical(y_train, num_classes)\n",
        "y_test = keras.utils.to_categorical(y_test, num_classes)\n",
        "\n",
        "# build the model\n",
        "model = Sequential()\n",
        "\n",
        "# add hidden layers\n",
        "for i in range(20):\n",
        "    model.add(Dense(100, input_shape=(3072,), kernel_initializer=he_normal()))\n",
        "    model.add(Activation('elu'))\n",
        "\n",
        "# add output layer\n",
        "model.add(Dense(10, activation='softmax'))\n",
        "\n",
        "# compile the model\n",
        "model.compile(loss='categorical_crossentropy', optimizer='adam', metrics=['accuracy'])\n",
        "\n",
        "# train the model\n",
        "history = model.fit(x_train, y_train, batch_size=32, epochs=10, validation_data=(x_test, y_test))\n",
        "\n",
        "# evaluate the model\n",
        "_, accuracy = model.evaluate(x_test, y_test, verbose=0)\n",
        "print('Test accuracy:', accuracy)"
      ],
      "metadata": {
        "colab": {
          "base_uri": "https://localhost:8080/"
        },
        "id": "mQ-aoaZY_ODx",
        "outputId": "2f782a59-6886-4d21-d670-1ee285418597"
      },
      "execution_count": 1,
      "outputs": [
        {
          "output_type": "stream",
          "name": "stdout",
          "text": [
            "Downloading data from https://www.cs.toronto.edu/~kriz/cifar-10-python.tar.gz\n",
            "170498071/170498071 [==============================] - 3s 0us/step\n",
            "Epoch 1/10\n",
            "1563/1563 [==============================] - 20s 11ms/step - loss: 2.0646 - accuracy: 0.2318 - val_loss: 1.9031 - val_accuracy: 0.2922\n",
            "Epoch 2/10\n",
            "1563/1563 [==============================] - 22s 14ms/step - loss: 1.8952 - accuracy: 0.2952 - val_loss: 1.8721 - val_accuracy: 0.3041\n",
            "Epoch 3/10\n",
            "1563/1563 [==============================] - 18s 11ms/step - loss: 1.8506 - accuracy: 0.3187 - val_loss: 1.8222 - val_accuracy: 0.3407\n",
            "Epoch 4/10\n",
            "1563/1563 [==============================] - 19s 12ms/step - loss: 1.9007 - accuracy: 0.2885 - val_loss: 1.8812 - val_accuracy: 0.2897\n",
            "Epoch 5/10\n",
            "1563/1563 [==============================] - 18s 12ms/step - loss: 1.8469 - accuracy: 0.3157 - val_loss: 1.7952 - val_accuracy: 0.3404\n",
            "Epoch 6/10\n",
            "1563/1563 [==============================] - 20s 13ms/step - loss: 1.8303 - accuracy: 0.3319 - val_loss: 1.9701 - val_accuracy: 0.2524\n",
            "Epoch 7/10\n",
            "1563/1563 [==============================] - 19s 12ms/step - loss: 1.9640 - accuracy: 0.2417 - val_loss: 1.9404 - val_accuracy: 0.2653\n",
            "Epoch 8/10\n",
            "1563/1563 [==============================] - 18s 11ms/step - loss: 1.8873 - accuracy: 0.2892 - val_loss: 1.8012 - val_accuracy: 0.3273\n",
            "Epoch 9/10\n",
            "1563/1563 [==============================] - 19s 12ms/step - loss: 1.8101 - accuracy: 0.3386 - val_loss: 1.8072 - val_accuracy: 0.3430\n",
            "Epoch 10/10\n",
            "1563/1563 [==============================] - 19s 12ms/step - loss: 1.7722 - accuracy: 0.3535 - val_loss: 1.7535 - val_accuracy: 0.3572\n",
            "Test accuracy: 0.3571999967098236\n"
          ]
        }
      ]
    },
    {
      "cell_type": "markdown",
      "source": [
        "b. Using Nadam optimization and early stopping, train the network on the CIFAR10\n",
        "dataset. You can load it with keras.datasets.cifar10.load_​data(). The dataset is\n",
        "composed of 60,000 32 × 32–pixel color images (50,000 for training, 10,000 for\n",
        "testing) with 10 classes, so you’ll need a softmax output layer with 10 neurons.\n",
        "Remember to search for the right learning rate each time you change the model’s\n",
        "architecture or hyperparameters."
      ],
      "metadata": {
        "id": "_gtXo_mLEXpx"
      }
    },
    {
      "cell_type": "code",
      "source": [
        "import numpy as np\n",
        "import keras\n",
        "from keras.datasets import cifar10\n",
        "from keras.models import Sequential\n",
        "from keras.layers import Dense, Dropout, Activation, BatchNormalization\n",
        "from keras.optimizers import Nadam\n",
        "from keras.callbacks import EarlyStopping\n",
        "\n",
        "# Load the CIFAR10 dataset\n",
        "(x_train, y_train), (x_test, y_test) = cifar10.load_data()\n",
        "\n",
        "# Preprocess the data by scaling the input features\n",
        "x_train = x_train.astype('float32') / 255\n",
        "x_test = x_test.astype('float32') / 255\n",
        "\n",
        "# Convert the class labels to binary class matrices\n",
        "y_train = keras.utils.to_categorical(y_train, 10)\n",
        "y_test = keras.utils.to_categorical(y_test, 10)\n",
        "\n",
        "# Define the DNN model\n",
        "model = Sequential()\n",
        "model.add(Flatten(input_shape=x_train.shape[1:]))\n",
        "\n",
        "for i in range(20):\n",
        "    model.add(Dense(100, kernel_initializer='he_normal'))\n",
        "    model.add(BatchNormalization())\n",
        "    model.add(Activation('elu'))\n",
        "    model.add(Dropout(0.5))\n",
        "\n",
        "model.add(Dense(10, activation='softmax'))\n",
        "\n",
        "# Compile the model with Nadam optimization and categorical cross-entropy loss\n",
        "optimizer = Nadam(lr=0.002)\n",
        "model.compile(loss='categorical_crossentropy', optimizer=optimizer, metrics=['accuracy'])\n",
        "\n",
        "# Train the model with early stopping\n",
        "early_stopping = EarlyStopping(patience=10)\n",
        "history = model.fit(x_train, y_train, batch_size=32, epochs=10, verbose=1, validation_data=(x_test, y_test), callbacks=[early_stopping])\n",
        "\n",
        "# Evaluate the model on the test data\n",
        "test_loss, test_accuracy = model.evaluate(x_test, y_test, verbose=0)\n",
        "print('Test loss:', test_loss)\n",
        "print('Test accuracy:', test_accuracy)"
      ],
      "metadata": {
        "colab": {
          "base_uri": "https://localhost:8080/"
        },
        "id": "EUForsbaBL7W",
        "outputId": "708be180-4cb4-4ef9-a656-3c6b613dbe98"
      },
      "execution_count": 5,
      "outputs": [
        {
          "output_type": "stream",
          "name": "stdout",
          "text": [
            "Epoch 1/10\n",
            "1563/1563 [==============================] - 51s 25ms/step - loss: 2.4048 - accuracy: 0.1016 - val_loss: 2.3001 - val_accuracy: 0.1283\n",
            "Epoch 2/10\n",
            "1563/1563 [==============================] - 38s 25ms/step - loss: 2.2396 - accuracy: 0.1339 - val_loss: 2.1748 - val_accuracy: 0.1695\n",
            "Epoch 3/10\n",
            "1563/1563 [==============================] - 40s 26ms/step - loss: 2.1206 - accuracy: 0.1675 - val_loss: 2.0680 - val_accuracy: 0.1867\n",
            "Epoch 4/10\n",
            "1563/1563 [==============================] - 39s 25ms/step - loss: 2.0860 - accuracy: 0.1715 - val_loss: 2.0077 - val_accuracy: 0.1854\n",
            "Epoch 5/10\n",
            "1563/1563 [==============================] - 38s 24ms/step - loss: 2.0645 - accuracy: 0.1755 - val_loss: 2.0164 - val_accuracy: 0.1820\n",
            "Epoch 6/10\n",
            "1563/1563 [==============================] - 38s 24ms/step - loss: 2.0535 - accuracy: 0.1776 - val_loss: 2.0214 - val_accuracy: 0.1822\n",
            "Epoch 7/10\n",
            "1563/1563 [==============================] - 38s 24ms/step - loss: 2.0449 - accuracy: 0.1824 - val_loss: 1.9745 - val_accuracy: 0.1970\n",
            "Epoch 8/10\n",
            "1563/1563 [==============================] - 41s 26ms/step - loss: 2.0327 - accuracy: 0.1880 - val_loss: 1.9947 - val_accuracy: 0.2036\n",
            "Epoch 9/10\n",
            "1563/1563 [==============================] - 39s 25ms/step - loss: 2.0255 - accuracy: 0.1924 - val_loss: 1.9845 - val_accuracy: 0.2060\n",
            "Epoch 10/10\n",
            "1563/1563 [==============================] - 39s 25ms/step - loss: 2.0181 - accuracy: 0.2007 - val_loss: 1.9491 - val_accuracy: 0.2362\n",
            "Test loss: 1.9491429328918457\n",
            "Test accuracy: 0.2362000048160553\n"
          ]
        }
      ]
    },
    {
      "cell_type": "markdown",
      "source": [
        "c. Now try adding Batch Normalization and compare the learning curves: Is it\n",
        "converging faster than before? Does it produce a better model? How does it affect\n",
        "training speed?"
      ],
      "metadata": {
        "id": "4UIi1G5lFI2z"
      }
    },
    {
      "cell_type": "code",
      "source": [
        "import numpy as np\n",
        "import keras\n",
        "from keras.datasets import cifar10\n",
        "from keras.models import Sequential\n",
        "from keras.layers import Dense, Dropout, Activation, Flatten, BatchNormalization\n",
        "from keras.optimizers import Nadam\n",
        "\n",
        "(x_train, y_train), (x_test, y_test) = cifar10.load_data()\n",
        "\n",
        "# Preprocessing data\n",
        "x_train = x_train.astype('float32')\n",
        "x_test = x_test.astype('float32')\n",
        "x_train /= 255\n",
        "x_test /= 255\n",
        "\n",
        "y_train = keras.utils.to_categorical(y_train, 10)\n",
        "y_test = keras.utils.to_categorical(y_test, 10)\n",
        "\n",
        "# Building the model\n",
        "model = Sequential()\n",
        "model.add(Flatten(input_shape=x_train.shape[1:]))\n",
        "\n",
        "for _ in range(20):\n",
        "    model.add(Dense(100, kernel_initializer='he_normal'))\n",
        "    model.add(BatchNormalization())\n",
        "    model.add(Activation('elu'))\n",
        "\n",
        "model.add(Dense(10, activation='softmax'))\n",
        "\n",
        "# Compiling the model\n",
        "optimizer = Nadam(lr=0.002)\n",
        "model.compile(loss='categorical_crossentropy', optimizer=optimizer, metrics=['accuracy'])\n",
        "\n",
        "# Training the model\n",
        "history = model.fit(x_train, y_train, batch_size=32, epochs=10, validation_split=0.1, verbose=2,\n",
        "                    callbacks=[keras.callbacks.EarlyStopping(patience=5)])\n",
        "\n",
        "# Evaluating the model\n",
        "test_loss, test_accuracy = model.evaluate(x_test, y_test, verbose=0)\n",
        "print(\"Test Loss:\", test_loss)\n",
        "print(\"Test Accuracy:\", test_accuracy)"
      ],
      "metadata": {
        "colab": {
          "base_uri": "https://localhost:8080/"
        },
        "id": "Oy5Yr4SuB7UN",
        "outputId": "c9e787cf-c6a0-469f-f2b8-7ad36b8213b7"
      },
      "execution_count": 7,
      "outputs": [
        {
          "output_type": "stream",
          "name": "stdout",
          "text": [
            "Epoch 1/10\n",
            "1407/1407 - 45s - loss: 1.8618 - accuracy: 0.3311 - val_loss: 1.8936 - val_accuracy: 0.3496 - 45s/epoch - 32ms/step\n",
            "Epoch 2/10\n",
            "1407/1407 - 27s - loss: 1.7070 - accuracy: 0.3927 - val_loss: 1.9486 - val_accuracy: 0.3394 - 27s/epoch - 19ms/step\n",
            "Epoch 3/10\n",
            "1407/1407 - 29s - loss: 1.6380 - accuracy: 0.4153 - val_loss: 1.7939 - val_accuracy: 0.3754 - 29s/epoch - 20ms/step\n",
            "Epoch 4/10\n",
            "1407/1407 - 27s - loss: 1.5826 - accuracy: 0.4354 - val_loss: 1.7470 - val_accuracy: 0.3880 - 27s/epoch - 19ms/step\n",
            "Epoch 5/10\n",
            "1407/1407 - 27s - loss: 1.5341 - accuracy: 0.4531 - val_loss: 1.8932 - val_accuracy: 0.3546 - 27s/epoch - 19ms/step\n",
            "Epoch 6/10\n",
            "1407/1407 - 28s - loss: 1.4934 - accuracy: 0.4685 - val_loss: 1.6353 - val_accuracy: 0.4208 - 28s/epoch - 20ms/step\n",
            "Epoch 7/10\n",
            "1407/1407 - 28s - loss: 1.4564 - accuracy: 0.4832 - val_loss: 1.6269 - val_accuracy: 0.4326 - 28s/epoch - 20ms/step\n",
            "Epoch 8/10\n",
            "1407/1407 - 28s - loss: 1.4268 - accuracy: 0.4934 - val_loss: 1.5514 - val_accuracy: 0.4454 - 28s/epoch - 20ms/step\n",
            "Epoch 9/10\n",
            "1407/1407 - 27s - loss: 1.3927 - accuracy: 0.5061 - val_loss: 1.6032 - val_accuracy: 0.4310 - 27s/epoch - 19ms/step\n",
            "Epoch 10/10\n",
            "1407/1407 - 27s - loss: 1.3680 - accuracy: 0.5157 - val_loss: 1.4526 - val_accuracy: 0.4788 - 27s/epoch - 19ms/step\n",
            "Test Loss: 1.4735796451568604\n",
            "Test Accuracy: 0.4731999933719635\n"
          ]
        }
      ]
    },
    {
      "cell_type": "markdown",
      "source": [
        "1. It is converging faster than before.\n",
        "2. It does produce a better model.\n",
        "3. The training speed in increased."
      ],
      "metadata": {
        "id": "EFJHyIHCGRn9"
      }
    },
    {
      "cell_type": "markdown",
      "source": [
        "d. Try replacing Batch Normalization with SELU, and make the necessary adjustements\n",
        "to ensure the network self-normalizes (i.e., standardize the input features, use\n",
        "LeCun normal initialization, make sure the DNN contains only a sequence of dense\n",
        "layers, etc.)."
      ],
      "metadata": {
        "id": "38jcT8Y2Gp1l"
      }
    },
    {
      "cell_type": "code",
      "source": [
        "from tensorflow.keras.models import Sequential\n",
        "from tensorflow.keras.layers import Dense, Activation\n",
        "from tensorflow.keras.optimizers import Nadam\n",
        "import numpy as np\n",
        "\n",
        "(x_train, y_train), (x_test, y_test) = keras.datasets.cifar10.load_data()\n",
        "\n",
        "x_train = x_train.astype('float32')\n",
        "x_test = x_test.astype('float32')\n",
        "\n",
        "# Standardizing the input features\n",
        "mean = np.mean(x_train, axis=(0,1,2))\n",
        "std = np.std(x_train, axis=(0,1,2))\n",
        "x_train = (x_train - mean) / std\n",
        "x_test = (x_test - mean) / std\n",
        "\n",
        "# convert class vectors to binary class matrices\n",
        "num_classes = 10\n",
        "y_train = keras.utils.to_categorical(y_train, num_classes)\n",
        "y_test = keras.utils.to_categorical(y_test, num_classes)\n",
        "\n",
        "model = Sequential()\n",
        "model.add(Flatten(input_shape=x_train.shape[1:]))\n",
        "\n",
        "# Add 20 hidden layers with 100 neurons each\n",
        "for i in range(20):\n",
        "    model.add(Dense(100, activation='selu',\n",
        "                    kernel_initializer='lecun_normal'))\n",
        "\n",
        "# Softmax output layer with 10 neurons\n",
        "model.add(Dense(10, activation='softmax'))\n",
        "\n",
        "model.compile(loss='categorical_crossentropy',\n",
        "              optimizer=Nadam(lr=0.002),\n",
        "              metrics=['accuracy'])\n",
        "\n",
        "# Train the model\n",
        "history = model.fit(x_train, y_train,\n",
        "                    batch_size=32,\n",
        "                    epochs=10,\n",
        "                    verbose=2,\n",
        "                    validation_data=(x_test, y_test),\n",
        "                    callbacks=[EarlyStopping(patience=5)])\n",
        "\n",
        "# Evaluate the model on the test data\n",
        "test_loss, test_acc = model.evaluate(x_test, y_test, verbose=0)\n",
        "\n",
        "print('Test accuracy:', test_acc)"
      ],
      "metadata": {
        "colab": {
          "base_uri": "https://localhost:8080/"
        },
        "id": "G0hsnPMZKZ5R",
        "outputId": "ccd88719-40ec-43d0-ae47-317d93feff85"
      },
      "execution_count": 16,
      "outputs": [
        {
          "output_type": "stream",
          "name": "stdout",
          "text": [
            "Epoch 1/10\n",
            "1563/1563 - 27s - loss: 2.0644 - accuracy: 0.2387 - val_loss: 2.0233 - val_accuracy: 0.2480 - 27s/epoch - 17ms/step\n",
            "Epoch 2/10\n",
            "1563/1563 - 22s - loss: 1.9440 - accuracy: 0.2648 - val_loss: 2.0122 - val_accuracy: 0.2285 - 22s/epoch - 14ms/step\n",
            "Epoch 3/10\n",
            "1563/1563 - 22s - loss: 1.9393 - accuracy: 0.2538 - val_loss: 1.9659 - val_accuracy: 0.2952 - 22s/epoch - 14ms/step\n",
            "Epoch 4/10\n",
            "1563/1563 - 22s - loss: 1.9103 - accuracy: 0.2997 - val_loss: 1.7617 - val_accuracy: 0.3416 - 22s/epoch - 14ms/step\n",
            "Epoch 5/10\n",
            "1563/1563 - 22s - loss: 1.7528 - accuracy: 0.3441 - val_loss: 1.7379 - val_accuracy: 0.3597 - 22s/epoch - 14ms/step\n",
            "Epoch 6/10\n",
            "1563/1563 - 23s - loss: 1.7159 - accuracy: 0.3642 - val_loss: 1.6962 - val_accuracy: 0.3787 - 23s/epoch - 15ms/step\n",
            "Epoch 7/10\n",
            "1563/1563 - 22s - loss: 1.6723 - accuracy: 0.3831 - val_loss: 1.7342 - val_accuracy: 0.3568 - 22s/epoch - 14ms/step\n",
            "Epoch 8/10\n",
            "1563/1563 - 21s - loss: 2.0796 - accuracy: 0.3653 - val_loss: 1.7439 - val_accuracy: 0.3736 - 21s/epoch - 14ms/step\n",
            "Epoch 9/10\n",
            "1563/1563 - 23s - loss: 1.6211 - accuracy: 0.4051 - val_loss: 1.6499 - val_accuracy: 0.4084 - 23s/epoch - 15ms/step\n",
            "Epoch 10/10\n",
            "1563/1563 - 22s - loss: 1.6829 - accuracy: 0.3876 - val_loss: 1.8324 - val_accuracy: 0.3322 - 22s/epoch - 14ms/step\n",
            "Test accuracy: 0.33219999074935913\n"
          ]
        }
      ]
    },
    {
      "cell_type": "markdown",
      "source": [
        "e. Try regularizing the model with alpha dropout. Then, without retraining your model,\n",
        "see if you can achieve better accuracy using MC Dropout."
      ],
      "metadata": {
        "id": "d-TZVcHLLY_9"
      }
    },
    {
      "cell_type": "code",
      "source": [
        "import numpy as np\n",
        "from keras.datasets import cifar10\n",
        "from keras.models import Sequential\n",
        "from keras.layers import Dense, Dropout\n",
        "from keras.optimizers import Nadam\n",
        "from keras.callbacks import EarlyStopping\n",
        "\n",
        "# Load the CIFAR10 dataset\n",
        "(x_train, y_train), (x_test, y_test) = cifar10.load_data()\n",
        "\n",
        "# Preprocess the data\n",
        "x_train = x_train.astype('float32') / 255.\n",
        "x_test = x_test.astype('float32') / 255.\n",
        "\n",
        "# Convert the labels to one-hot encoded vectors\n",
        "num_classes = 10\n",
        "y_train = keras.utils.to_categorical(y_train, num_classes)\n",
        "y_test = keras.utils.to_categorical(y_test, num_classes)\n",
        "\n",
        "# Build the deep neural network\n",
        "model = Sequential()\n",
        "model.add(Dense(100, activation='elu', input_shape=(32 * 32 * 3,)))\n",
        "for _ in range(19):\n",
        "    model.add(Dense(100, activation='elu'))\n",
        "model.add(Dense(10, activation='softmax'))\n",
        "\n",
        "# Compile the model\n",
        "model.compile(loss='categorical_crossentropy', optimizer=Nadam(lr=0.002), metrics=['accuracy'])\n",
        "\n",
        "# Train the model with early stopping\n",
        "early_stopping = EarlyStopping(patience=5)\n",
        "model.fit(x_train.reshape(-1, 32 * 32 * 3), y_train, batch_size=32, epochs=10, validation_data=(x_test.reshape(-1, 32 * 32 * 3), y_test), callbacks=[early_stopping])\n",
        "\n",
        "# Regularize the model with alpha dropout\n",
        "model.add(Dropout(0.5))\n",
        "\n",
        "# Evaluate the model with MC Dropout\n",
        "y_probas = np.stack([model.predict(x_test.reshape(-1, 32 * 32 * 3)) for sample in range(100)])\n",
        "y_pred = y_probas.mean(axis=0)\n",
        "y_pred = np.argmax(y_pred, axis=1)\n",
        "y_test = np.argmax(y_test, axis=1)\n",
        "accuracy = np.mean(y_pred == y_test)\n",
        "print('MC Dropout Accuracy:', accuracy)"
      ],
      "metadata": {
        "colab": {
          "base_uri": "https://localhost:8080/"
        },
        "id": "cxybElmjLHqG",
        "outputId": "13a0fa06-c261-47c3-bbea-f62899cba97e"
      },
      "execution_count": 21,
      "outputs": [
        {
          "output_type": "stream",
          "name": "stdout",
          "text": [
            "Epoch 1/10\n",
            "1563/1563 [==============================] - 31s 18ms/step - loss: 2.2563 - accuracy: 0.1270 - val_loss: 2.0968 - val_accuracy: 0.1672\n",
            "Epoch 2/10\n",
            "1563/1563 [==============================] - 28s 18ms/step - loss: 2.0666 - accuracy: 0.1867 - val_loss: 2.0472 - val_accuracy: 0.1968\n",
            "Epoch 3/10\n",
            "1563/1563 [==============================] - 27s 17ms/step - loss: 2.0333 - accuracy: 0.2121 - val_loss: 2.1113 - val_accuracy: 0.1930\n",
            "Epoch 4/10\n",
            "1563/1563 [==============================] - 26s 17ms/step - loss: 2.0400 - accuracy: 0.2107 - val_loss: 2.0381 - val_accuracy: 0.2000\n",
            "Epoch 5/10\n",
            "1563/1563 [==============================] - 26s 16ms/step - loss: 2.0137 - accuracy: 0.2149 - val_loss: 2.0287 - val_accuracy: 0.2019\n",
            "Epoch 6/10\n",
            "1563/1563 [==============================] - 26s 17ms/step - loss: 1.9912 - accuracy: 0.2174 - val_loss: 1.9995 - val_accuracy: 0.2295\n",
            "Epoch 7/10\n",
            "1563/1563 [==============================] - 26s 17ms/step - loss: 1.9912 - accuracy: 0.2273 - val_loss: 1.9708 - val_accuracy: 0.2160\n",
            "Epoch 8/10\n",
            "1563/1563 [==============================] - 27s 17ms/step - loss: 1.9734 - accuracy: 0.2292 - val_loss: 1.9431 - val_accuracy: 0.2198\n",
            "Epoch 9/10\n",
            "1563/1563 [==============================] - 26s 16ms/step - loss: 2.0193 - accuracy: 0.2144 - val_loss: 1.9578 - val_accuracy: 0.2489\n",
            "Epoch 10/10\n",
            "1563/1563 [==============================] - 27s 17ms/step - loss: 1.9705 - accuracy: 0.2345 - val_loss: 1.9888 - val_accuracy: 0.2202\n",
            "313/313 [==============================] - 1s 4ms/step\n",
            "313/313 [==============================] - 1s 4ms/step\n",
            "313/313 [==============================] - 1s 5ms/step\n",
            "313/313 [==============================] - 1s 5ms/step\n",
            "313/313 [==============================] - 1s 4ms/step\n",
            "313/313 [==============================] - 1s 4ms/step\n",
            "313/313 [==============================] - 1s 4ms/step\n",
            "313/313 [==============================] - 1s 4ms/step\n",
            "313/313 [==============================] - 1s 4ms/step\n",
            "313/313 [==============================] - 1s 4ms/step\n",
            "313/313 [==============================] - 2s 6ms/step\n",
            "313/313 [==============================] - 1s 4ms/step\n",
            "313/313 [==============================] - 1s 4ms/step\n",
            "313/313 [==============================] - 1s 4ms/step\n",
            "313/313 [==============================] - 1s 4ms/step\n",
            "313/313 [==============================] - 1s 4ms/step\n",
            "313/313 [==============================] - 1s 4ms/step\n",
            "313/313 [==============================] - 2s 5ms/step\n",
            "313/313 [==============================] - 1s 4ms/step\n",
            "313/313 [==============================] - 1s 4ms/step\n",
            "313/313 [==============================] - 1s 4ms/step\n",
            "313/313 [==============================] - 1s 4ms/step\n",
            "313/313 [==============================] - 1s 4ms/step\n",
            "313/313 [==============================] - 1s 4ms/step\n",
            "313/313 [==============================] - 2s 6ms/step\n",
            "313/313 [==============================] - 1s 4ms/step\n",
            "313/313 [==============================] - 1s 4ms/step\n",
            "313/313 [==============================] - 1s 4ms/step\n",
            "313/313 [==============================] - 1s 4ms/step\n",
            "313/313 [==============================] - 1s 4ms/step\n",
            "313/313 [==============================] - 1s 4ms/step\n",
            "313/313 [==============================] - 2s 6ms/step\n",
            "313/313 [==============================] - 1s 4ms/step\n",
            "313/313 [==============================] - 1s 4ms/step\n",
            "313/313 [==============================] - 1s 4ms/step\n",
            "313/313 [==============================] - 1s 4ms/step\n",
            "313/313 [==============================] - 1s 5ms/step\n",
            "313/313 [==============================] - 2s 5ms/step\n",
            "313/313 [==============================] - 1s 4ms/step\n",
            "313/313 [==============================] - 1s 4ms/step\n",
            "313/313 [==============================] - 1s 4ms/step\n",
            "313/313 [==============================] - 1s 4ms/step\n",
            "313/313 [==============================] - 1s 4ms/step\n",
            "313/313 [==============================] - 2s 6ms/step\n",
            "313/313 [==============================] - 2s 6ms/step\n",
            "313/313 [==============================] - 1s 4ms/step\n",
            "313/313 [==============================] - 1s 4ms/step\n",
            "313/313 [==============================] - 2s 6ms/step\n",
            "313/313 [==============================] - 1s 4ms/step\n",
            "313/313 [==============================] - 1s 4ms/step\n",
            "313/313 [==============================] - 1s 4ms/step\n",
            "313/313 [==============================] - 1s 4ms/step\n",
            "313/313 [==============================] - 1s 4ms/step\n",
            "313/313 [==============================] - 2s 5ms/step\n",
            "313/313 [==============================] - 1s 4ms/step\n",
            "313/313 [==============================] - 1s 4ms/step\n",
            "313/313 [==============================] - 1s 4ms/step\n",
            "313/313 [==============================] - 1s 4ms/step\n",
            "313/313 [==============================] - 1s 4ms/step\n",
            "313/313 [==============================] - 2s 6ms/step\n",
            "313/313 [==============================] - 1s 4ms/step\n",
            "313/313 [==============================] - 1s 4ms/step\n",
            "313/313 [==============================] - 1s 4ms/step\n",
            "313/313 [==============================] - 1s 4ms/step\n",
            "313/313 [==============================] - 1s 4ms/step\n",
            "313/313 [==============================] - 1s 4ms/step\n",
            "313/313 [==============================] - 1s 4ms/step\n",
            "313/313 [==============================] - 1s 4ms/step\n",
            "313/313 [==============================] - 1s 4ms/step\n",
            "313/313 [==============================] - 2s 6ms/step\n",
            "313/313 [==============================] - 1s 4ms/step\n",
            "313/313 [==============================] - 1s 4ms/step\n",
            "313/313 [==============================] - 1s 4ms/step\n",
            "313/313 [==============================] - 1s 4ms/step\n",
            "313/313 [==============================] - 1s 4ms/step\n",
            "313/313 [==============================] - 2s 6ms/step\n",
            "313/313 [==============================] - 1s 4ms/step\n",
            "313/313 [==============================] - 1s 4ms/step\n",
            "313/313 [==============================] - 1s 4ms/step\n",
            "313/313 [==============================] - 1s 4ms/step\n",
            "313/313 [==============================] - 2s 6ms/step\n",
            "313/313 [==============================] - 1s 4ms/step\n",
            "313/313 [==============================] - 1s 4ms/step\n",
            "313/313 [==============================] - 1s 4ms/step\n",
            "313/313 [==============================] - 1s 4ms/step\n",
            "313/313 [==============================] - 2s 5ms/step\n",
            "313/313 [==============================] - 1s 4ms/step\n",
            "313/313 [==============================] - 2s 5ms/step\n",
            "313/313 [==============================] - 1s 4ms/step\n",
            "313/313 [==============================] - 1s 4ms/step\n",
            "313/313 [==============================] - 2s 6ms/step\n",
            "313/313 [==============================] - 1s 4ms/step\n",
            "313/313 [==============================] - 1s 4ms/step\n",
            "313/313 [==============================] - 1s 4ms/step\n",
            "313/313 [==============================] - 1s 4ms/step\n",
            "313/313 [==============================] - 2s 5ms/step\n",
            "313/313 [==============================] - 1s 4ms/step\n",
            "313/313 [==============================] - 1s 4ms/step\n",
            "313/313 [==============================] - 1s 4ms/step\n",
            "313/313 [==============================] - 1s 4ms/step\n",
            "MC Dropout Accuracy: 0.2202\n"
          ]
        }
      ]
    },
    {
      "cell_type": "code",
      "source": [],
      "metadata": {
        "id": "YPfq2I2dMW1Z"
      },
      "execution_count": null,
      "outputs": []
    }
  ]
}